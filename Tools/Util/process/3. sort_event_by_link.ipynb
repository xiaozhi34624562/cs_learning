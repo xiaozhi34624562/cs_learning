{
 "cells": [
  {
   "cell_type": "code",
   "execution_count": 1,
   "metadata": {},
   "outputs": [],
   "source": [
    "import numpy as np\n",
    "import xmltodict\n",
    "import json\n",
    "import os\n",
    "import pickle"
   ]
  },
  {
   "cell_type": "code",
   "execution_count": 2,
   "metadata": {},
   "outputs": [],
   "source": [
    "with open(\"./event_without_public.json\", 'r') as fr:\n",
    "    eventsWithoutPublic = json.load(fr)"
   ]
  },
  {
   "cell_type": "code",
   "execution_count": 3,
   "metadata": {},
   "outputs": [],
   "source": [
    "quarter = int(len(eventsWithoutPublic) / 4)\n",
    "eventsWithoutPublic_first = eventsWithoutPublic[:quarter]\n",
    "eventsWithoutPublic_second = eventsWithoutPublic[quarter : quarter * 2]\n",
    "eventsWithoutPublic_third = eventsWithoutPublic[quarter*2 : quarter * 3]\n",
    "eventsWithoutPublic_fourth = eventsWithoutPublic[quarter*3 :]"
   ]
  },
  {
   "cell_type": "code",
   "execution_count": 48,
   "metadata": {},
   "outputs": [],
   "source": []
  },
  {
   "cell_type": "code",
   "execution_count": 4,
   "metadata": {},
   "outputs": [],
   "source": [
    "def sorted_event_by_link(events):\n",
    "    # sort data into links\n",
    "    #  data form is {\"link1\" : {time1 : {\"person1\", \"person2\", ...} ... }, ...}\n",
    "    linkDict = {}\n",
    "    e = 0\n",
    "    for item in events:\n",
    "        e += 1\n",
    "        if linkDict.__contains__(item[\"link\"]):\n",
    "            if linkDict[item[\"link\"]].__contains__(item[\"time\"]):\n",
    "                (linkDict[item[\"link\"]][item[\"time\"]]).add(item[\"person\"])\n",
    "            else:\n",
    "                linkDict[item[\"link\"]][item[\"time\"]] = {item[\"person\"]}\n",
    "        else:\n",
    "            linkDict[item[\"link\"]] = {item[\"time\"] : {item[\"person\"]}}\n",
    "        if e % 10000000 == 0:\n",
    "            print(e)\n",
    "    del events\n",
    "    return linkDict"
   ]
  },
  {
   "cell_type": "code",
   "execution_count": 50,
   "metadata": {},
   "outputs": [
    {
     "name": "stdout",
     "output_type": "stream",
     "text": [
      "10000000\n",
      "20000000\n"
     ]
    }
   ],
   "source": [
    "# linkDict = sorted_event_by_link(eventsWithoutPublic_first, linkDict)"
   ]
  },
  {
   "cell_type": "code",
   "execution_count": 2,
   "metadata": {},
   "outputs": [],
   "source": [
    "with open(\"./link_first.pkl\", \"rb\") as fsr:\n",
    "    linkDict = pickle.load(fsr)"
   ]
  },
  {
   "cell_type": "code",
   "execution_count": 5,
   "metadata": {},
   "outputs": [
    {
     "name": "stdout",
     "output_type": "stream",
     "text": [
      "10000000\n",
      "20000000\n"
     ]
    }
   ],
   "source": [
    "linkDict = sorted_event_by_link(eventsWithoutPublic_second)\n",
    "with open(\"./link_secong.pkl\", 'wb') as fsw:\n",
    "    pickle.dump(linkDict, fsw)"
   ]
  },
  {
   "cell_type": "code",
   "execution_count": 6,
   "metadata": {},
   "outputs": [
    {
     "name": "stdout",
     "output_type": "stream",
     "text": [
      "10000000\n",
      "20000000\n"
     ]
    }
   ],
   "source": [
    "linkDict = sorted_event_by_link(eventsWithoutPublic_third)\n",
    "with open(\"./link_third.pkl\", 'wb') as ftw:\n",
    "    pickle.dump(linkDict, ftw)"
   ]
  },
  {
   "cell_type": "code",
   "execution_count": null,
   "metadata": {},
   "outputs": [],
   "source": []
  },
  {
   "cell_type": "code",
   "execution_count": 7,
   "metadata": {},
   "outputs": [
    {
     "name": "stdout",
     "output_type": "stream",
     "text": [
      "10000000\n",
      "20000000\n"
     ]
    }
   ],
   "source": [
    "linkDict = sorted_event_by_link(eventsWithoutPublic_fourth)\n",
    "with open(\"./link_fourth.pkl\", 'wb') as fw:\n",
    "    pickle.dump(linkDict, fw)"
   ]
  },
  {
   "cell_type": "code",
   "execution_count": 2,
   "metadata": {},
   "outputs": [],
   "source": [
    "with open(\"./link_fourth.pkl\", 'rb') as fr:\n",
    "    b = pickle.load(fr)"
   ]
  },
  {
   "cell_type": "code",
   "execution_count": null,
   "metadata": {},
   "outputs": [],
   "source": []
  }
 ],
 "metadata": {
  "interpreter": {
   "hash": "3dd4805aa1ae2fd696697ada0dc0651f48bcaf601d176aa13c8e36d838f7eab8"
  },
  "kernelspec": {
   "display_name": "Python 3.9.4 64-bit ('venv': venv)",
   "language": "python",
   "name": "python3"
  },
  "language_info": {
   "codemirror_mode": {
    "name": "ipython",
    "version": 3
   },
   "file_extension": ".py",
   "mimetype": "text/x-python",
   "name": "python",
   "nbconvert_exporter": "python",
   "pygments_lexer": "ipython3",
   "version": "3.9.4"
  },
  "orig_nbformat": 4
 },
 "nbformat": 4,
 "nbformat_minor": 2
}
