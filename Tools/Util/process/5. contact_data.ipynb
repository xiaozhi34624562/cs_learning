{
 "cells": [
  {
   "cell_type": "code",
   "execution_count": 1,
   "metadata": {},
   "outputs": [],
   "source": [
    "import pandas as pd\n",
    "import xmltodict\n",
    "import json\n",
    "import os\n",
    "import pickle"
   ]
  },
  {
   "cell_type": "code",
   "execution_count": 2,
   "metadata": {},
   "outputs": [],
   "source": [
    "# get the contact data\n",
    "# {'person1':{'person1':'n1', 'person2':'n2', 'person3':'n3'}, 'person2':{...}}\n",
    "\n",
    "def contact(linkDict, personContact, stride):\n",
    "    # stride = 500\n",
    "    # v {0.0: {'95187201'}, 3597.0: {'95187201'}, 25549.0: {'322233201'} {time:{person}}\n",
    "    for k, v in linkDict.items():\n",
    "        # {0.0, 3597.0}\n",
    "        times = list(v.keys())\n",
    "        # diff = list(map(lambda x : abs(x[1] - x[0]), zip(times[:-1], times[1:])))\n",
    "        for t1 in range(len(times)):\n",
    "            for t2 in range(1, len(times)):\n",
    "                if abs(times[t2] - times[t1]) <= stride:\n",
    "                    mPersons = list(linkDict[k][times[t1]])\n",
    "                    cPerson = list(linkDict[k][times[t2]])\n",
    "                    for p in mPersons:\n",
    "                        for cp in cPerson:\n",
    "                            if p == cp:\n",
    "                                continue\n",
    "                            if not personContact.__contains__(p):\n",
    "                                personContact[p] = dict()\n",
    "                                if not personContact[p].__contains__(cp):\n",
    "                                    personContact[p][cp] = 0\n",
    "                                else:\n",
    "                                    num = personContact[p][cp] + 1\n",
    "                                    personContact[p][cp] = num\n",
    "                            else:\n",
    "                                if not personContact[p].__contains__(cp):\n",
    "                                    personContact[p][cp] = 0\n",
    "                                else:\n",
    "                                    num = personContact[p][cp] + 1\n",
    "                                    personContact[p][cp] = num\n",
    "                else:\n",
    "                    break\n",
    "    return personContact\n",
    "\n"
   ]
  },
  {
   "cell_type": "code",
   "execution_count": 3,
   "metadata": {},
   "outputs": [
    {
     "name": "stdout",
     "output_type": "stream",
     "text": [
      "begin to load data\n",
      "begin to get contact data\n",
      "get the contact data in link 0\n",
      "begin to load data\n",
      "begin to get contact data\n",
      "get the contact data in link 1\n",
      "begin to load data\n",
      "begin to get contact data\n",
      "get the contact data in link 2\n",
      "begin to load data\n",
      "begin to get contact data\n",
      "get the contact data in link 3\n",
      "begin to load data\n",
      "begin to get contact data\n",
      "get the contact data in link 4\n",
      "begin to load data\n",
      "begin to get contact data\n",
      "get the contact data in link 5\n",
      "begin to load data\n",
      "begin to get contact data\n",
      "get the contact data in link 6\n",
      "begin to load data\n",
      "begin to get contact data\n",
      "get the contact data in link 7\n",
      "begin to load data\n",
      "begin to get contact data\n",
      "get the contact data in link 8\n",
      "begin to load data\n",
      "begin to get contact data\n",
      "get the contact data in link 9\n"
     ]
    }
   ],
   "source": [
    "dir = \"../event_sorted_by_link/\"\n",
    "link_pkl_list = os.listdir(dir)\n",
    "personContact = dict()\n",
    "stride = 500\n",
    "idx = 0\n",
    "\n",
    "for file in link_pkl_list:\n",
    "    print('begin to load data')\n",
    "    with open(dir + file, \"rb\") as fr:\n",
    "        linkDict = pickle.load(fr)\n",
    "    print(\"begin to get contact data\")\n",
    "    personContact = contact(linkDict, personContact, stride)\n",
    "    print(\"get the contact data in link \" + str(idx))\n",
    "    idx += 1\n",
    "    \n",
    "    "
   ]
  },
  {
   "cell_type": "code",
   "execution_count": 5,
   "metadata": {},
   "outputs": [],
   "source": [
    "with open(\"../contact_data.pkl\", 'wb') as fwb:\n",
    "    pickle.dump(personContact, fwb)"
   ]
  },
  {
   "cell_type": "code",
   "execution_count": 7,
   "metadata": {},
   "outputs": [
    {
     "data": {
      "text/plain": [
       "['6184901',\n",
       " '6057201',\n",
       " '3482501',\n",
       " '193308901',\n",
       " '212100901',\n",
       " '357575901',\n",
       " '357587601',\n",
       " '5179901',\n",
       " '402844001',\n",
       " '366736001']"
      ]
     },
     "execution_count": 7,
     "metadata": {},
     "output_type": "execute_result"
    }
   ],
   "source": [
    "list(personContact.keys())[:10]"
   ]
  },
  {
   "cell_type": "code",
   "execution_count": 8,
   "metadata": {},
   "outputs": [
    {
     "data": {
      "text/plain": [
       "{'6057201': 0, '479908701': 0}"
      ]
     },
     "execution_count": 8,
     "metadata": {},
     "output_type": "execute_result"
    }
   ],
   "source": [
    "personContact['6184901']"
   ]
  },
  {
   "cell_type": "code",
   "execution_count": 9,
   "metadata": {},
   "outputs": [
    {
     "data": {
      "text/plain": [
       "{'212100901': 0, '357575901': 0, '218505701': 0}"
      ]
     },
     "execution_count": 9,
     "metadata": {},
     "output_type": "execute_result"
    }
   ],
   "source": [
    "personContact['193308901']"
   ]
  },
  {
   "cell_type": "code",
   "execution_count": 10,
   "metadata": {},
   "outputs": [
    {
     "data": {
      "text/plain": [
       "3"
      ]
     },
     "execution_count": 10,
     "metadata": {},
     "output_type": "execute_result"
    }
   ],
   "source": [
    "len(personContact['193308901'])"
   ]
  },
  {
   "cell_type": "code",
   "execution_count": 11,
   "metadata": {},
   "outputs": [
    {
     "data": {
      "text/plain": [
       "52"
      ]
     },
     "execution_count": 11,
     "metadata": {},
     "output_type": "execute_result"
    }
   ],
   "source": [
    "m = 0\n",
    "for key, val in personContact.items():\n",
    "    if (len(val) > m):\n",
    "        m = len(val)\n",
    "m\n"
   ]
  },
  {
   "cell_type": "code",
   "execution_count": 12,
   "metadata": {},
   "outputs": [
    {
     "name": "stdout",
     "output_type": "stream",
     "text": [
      "{'331527501': 0, '273477801': 0, '703701': 0, '339962401': 0, '192487601': 0, '334288201': 0, '309221901': 0, '351549201': 0, '348653001': 0, '268925101': 0, '380133901': 0, '318864901': 0, '198316001': 0, '378701801': 0, '182766301': 0, '212835601': 0, '193645501': 0, '79612601': 0, '354589901': 0, '347691201': 0, '174237701': 0, '115295201': 0, '100492001': 0, '334504801': 0, '234191301': 0, '323121701': 0, '372721101': 0, '173769101': 0, '29345301': 0, '225799601': 0, '32515101': 0, '222830001': 0, '290948201': 0, '226845301': 0, '227995101': 0, '31320601': 0, '310219501': 0, '57257701': 0, '14889301': 0, '371293301': 0, '282841501': 0, '216644201': 0, '379326801': 0, '194709201': 0, '177654601': 0, '431254201': 0, '337179401': 0, '211412801': 0, '311350001': 0, '333791001': 0, '378126801': 0, '362341101': 0}\n"
     ]
    }
   ],
   "source": [
    "for key, val in personContact.items():\n",
    "    if (len(val) == m):\n",
    "        print(val)"
   ]
  },
  {
   "cell_type": "code",
   "execution_count": null,
   "metadata": {},
   "outputs": [],
   "source": []
  }
 ],
 "metadata": {
  "interpreter": {
   "hash": "3dd4805aa1ae2fd696697ada0dc0651f48bcaf601d176aa13c8e36d838f7eab8"
  },
  "kernelspec": {
   "display_name": "Python 3.9.4 64-bit ('venv': venv)",
   "language": "python",
   "name": "python3"
  },
  "language_info": {
   "codemirror_mode": {
    "name": "ipython",
    "version": 3
   },
   "file_extension": ".py",
   "mimetype": "text/x-python",
   "name": "python",
   "nbconvert_exporter": "python",
   "pygments_lexer": "ipython3",
   "version": "3.9.4"
  },
  "orig_nbformat": 4
 },
 "nbformat": 4,
 "nbformat_minor": 2
}
