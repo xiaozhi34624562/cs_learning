{
 "cells": [
  {
   "cell_type": "code",
   "execution_count": null,
   "metadata": {},
   "outputs": [],
   "source": [
    "import numpy as np\n",
    "import xmltodict\n",
    "import json\n",
    "import os\n",
    "import pickle"
   ]
  },
  {
   "cell_type": "code",
   "execution_count": null,
   "metadata": {},
   "outputs": [],
   "source": [
    "num = 0\n",
    "count = 0\n",
    "inside = []\n",
    "name = \"./data/output_event_\"\n",
    "with open(\"./output_events.xml\", 'rt') as f:\n",
    "    a = f.readline()\n",
    "    b = f.readline()\n",
    "    for line in f.readlines():\n",
    "        inside.append(line)\n",
    "        num += 1\n",
    "        if num % 5000000 == 0:\n",
    "            count += 1\n",
    "            xml = []\n",
    "            xml.append(a)\n",
    "            xml.append(b)\n",
    "            xml.extend(inside)\n",
    "            if inside[-1] != \"</events>\":\n",
    "                xml.append(\"</events>\")\n",
    "            xml_file = ''.join(xml)\n",
    "            js = xmltodict.parse(xml_file, encoding='utf-8')\n",
    "            file_name = name + str(count) + \"_\" + str(num) + \".json\"\n",
    "            with open(file_name, 'w') as fw:\n",
    "                json.dump(js, fw)\n",
    "            inside = []\n",
    "            del js, xml_file\n"
   ]
  },
  {
   "cell_type": "code",
   "execution_count": null,
   "metadata": {},
   "outputs": [],
   "source": [
    "# deal with the rest\n",
    "count += 1\n",
    "xml = []\n",
    "xml.append(a)\n",
    "xml.append(b)\n",
    "xml.extend(inside)\n",
    "if inside[-1] != \"</events>\":\n",
    "    xml.append(\"</events>\")\n",
    "xml_file = ''.join(xml)\n",
    "js = xmltodict.parse(xml_file, encoding='utf-8')\n",
    "file_name = name + str(count) + \"_\" + str(num) + \".json\"\n",
    "with open(file_name, 'w') as fw:\n",
    "    json.dump(js, fw)"
   ]
  },
  {
   "cell_type": "code",
   "execution_count": null,
   "metadata": {},
   "outputs": [],
   "source": [
    "events = os.listdir(\"./data\")\n",
    "events.remove(\".DS_Store\")\n",
    "ordered_events = [0] * len(events)"
   ]
  },
  {
   "cell_type": "code",
   "execution_count": null,
   "metadata": {},
   "outputs": [],
   "source": [
    "for event in events:\n",
    "    idx = int(event.split(\"_\")[2]) - 1\n",
    "    ordered_events[idx] = event"
   ]
  },
  {
   "cell_type": "code",
   "execution_count": null,
   "metadata": {},
   "outputs": [],
   "source": [
    "eventList = []\n",
    "for event in ordered_events:\n",
    "    path = \"./data/\" + event\n",
    "    with open(path, 'r') as f:\n",
    "        json_event = json.load(f)\n",
    "    eventList.extend(json_event[\"events\"][\"event\"])"
   ]
  },
  {
   "cell_type": "code",
   "execution_count": null,
   "metadata": {},
   "outputs": [],
   "source": [
    "# pre-process data(remove all the public transportation dataset)\n",
    "# event is recorded in this form {{\"time1\":time1, \"personId\":person, \"linkId\":\"link\"}, ...}\n",
    "eventsWithoutPublic = []\n",
    "for item in eventList:\n",
    "    if item.__contains__(\"@link\"):\n",
    "        if item.__contains__(\"@person\"): \n",
    "            if not item[\"@person\"].startswith(\"pt\"):\n",
    "                eventsWithoutPublic.append({\"time\":float(item[\"@time\"]), \"person\":item[\"@person\"], \"link\":item[\"@link\"]})\n",
    "        else:\n",
    "            if item.__contains__(\"@vehicle\"):\n",
    "                if not item[\"@vehicle\"].startswith(\"pt\"):\n",
    "                    eventsWithoutPublic.append({\"time\":float(item[\"@time\"]), \"person\":item[\"@vehicle\"], \"link\":item[\"@link\"]})\n",
    "    "
   ]
  },
  {
   "cell_type": "code",
   "execution_count": null,
   "metadata": {},
   "outputs": [],
   "source": [
    "with open(\"event_without_public.json\", 'w') as ewp:\n",
    "    json.dump(eventsWithoutPublic, ewp)"
   ]
  }
 ],
 "metadata": {
  "language_info": {
   "name": "python"
  },
  "orig_nbformat": 4
 },
 "nbformat": 4,
 "nbformat_minor": 2
}
