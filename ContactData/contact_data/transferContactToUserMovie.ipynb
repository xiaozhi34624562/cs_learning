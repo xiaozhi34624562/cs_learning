{
 "cells": [
  {
   "cell_type": "code",
   "execution_count": 1,
   "metadata": {},
   "outputs": [],
   "source": [
    "import pandas as pd\n",
    "import pickle\n",
    "import numpy as np\n",
    "import os\n",
    "import time\n",
    "import calendar"
   ]
  },
  {
   "cell_type": "code",
   "execution_count": 2,
   "metadata": {},
   "outputs": [
    {
     "name": "stdout",
     "output_type": "stream",
     "text": [
      "/Users/xiaozhi/Downloads/Master_Thesis/old_contact_data\n"
     ]
    }
   ],
   "source": [
    "!pwd"
   ]
  },
  {
   "cell_type": "code",
   "execution_count": 3,
   "metadata": {},
   "outputs": [],
   "source": [
    "dir = [f for f in os.listdir(\"./\") if f.endswith(\".pkl\")]\n",
    "rating = pd.read_csv(\"./ratings25.csv\")\n",
    "users = rating[\"userId\"].drop_duplicates()"
   ]
  },
  {
   "cell_type": "code",
   "execution_count": 4,
   "metadata": {},
   "outputs": [],
   "source": [
    "def getNumberFromFileName(name):\n",
    "    return name.split(\"_\")[-1].split(\".\")[0]\n",
    "\n",
    "def openContact(path):\n",
    "    with open(\"./\" + path, 'rb') as f:\n",
    "        return pickle.load(f)\n",
    "\n",
    "def storeContact(sc, f):\n",
    "    contact_name = \"userMovie/contact_\" + str(getNumberFromFileName(f)) + \".pkl\"\n",
    "    with open(\"./\" + contact_name, 'wb') as f:\n",
    "        pickle.dump(sc, f)"
   ]
  },
  {
   "cell_type": "code",
   "execution_count": 5,
   "metadata": {},
   "outputs": [],
   "source": [
    "def selectUserFromRating(users, contact):\n",
    "    peers = list(contact.keys())\n",
    "    selected_users = np.random.choice(users, len(peers), replace=False)\n",
    "    user_peer_dict = {peers[i] : selected_users[i] for i in range(len(selected_users))}\n",
    "    user_contact = {i:dict() for i in range(1, 28)}\n",
    "    mm = set()\n",
    "    for person in contact.keys():\n",
    "        peer = user_peer_dict[person]\n",
    "        for p, times in contact[person].items():\n",
    "            if user_peer_dict.__contains__(p):\n",
    "                for t in times:\n",
    "                    n = int(t / (60 * 60)) + 1\n",
    "                    mm.add(n)\n",
    "                    if user_contact[n].__contains__(peer):\n",
    "                        if user_contact[n][peer] is None:\n",
    "                            user_contact[n][peer] = {user_peer_dict[p]}\n",
    "                        else:\n",
    "                            user_contact[n][peer].add(user_peer_dict[p])\n",
    "                    else:\n",
    "                        user_contact[n][peer] = {user_peer_dict[p]}\n",
    "    return user_contact, selected_users\n"
   ]
  },
  {
   "cell_type": "code",
   "execution_count": 6,
   "metadata": {},
   "outputs": [],
   "source": [
    "for f in dir:\n",
    "    contact = openContact(f)\n",
    "    user_contact, selected_users = selectUserFromRating(users, contact)\n",
    "    r = rating[rating[\"userId\"].isin(selected_users)]\n",
    "    csv_name = \"rating_\" + str(len(selected_users)) +\".csv\"\n",
    "    r.to_csv(csv_name, index=False)\n",
    "    storeContact(user_contact, f)\n"
   ]
  },
  {
   "cell_type": "code",
   "execution_count": 7,
   "metadata": {},
   "outputs": [
    {
     "data": {
      "text/html": [
       "<div>\n",
       "<style scoped>\n",
       "    .dataframe tbody tr th:only-of-type {\n",
       "        vertical-align: middle;\n",
       "    }\n",
       "\n",
       "    .dataframe tbody tr th {\n",
       "        vertical-align: top;\n",
       "    }\n",
       "\n",
       "    .dataframe thead th {\n",
       "        text-align: right;\n",
       "    }\n",
       "</style>\n",
       "<table border=\"1\" class=\"dataframe\">\n",
       "  <thead>\n",
       "    <tr style=\"text-align: right;\">\n",
       "      <th></th>\n",
       "      <th>userId</th>\n",
       "      <th>movieId</th>\n",
       "      <th>rating</th>\n",
       "      <th>timestamp</th>\n",
       "    </tr>\n",
       "  </thead>\n",
       "  <tbody>\n",
       "    <tr>\n",
       "      <th>910</th>\n",
       "      <td>4</td>\n",
       "      <td>1</td>\n",
       "      <td>3.0</td>\n",
       "      <td>1573944252</td>\n",
       "    </tr>\n",
       "    <tr>\n",
       "      <th>911</th>\n",
       "      <td>4</td>\n",
       "      <td>260</td>\n",
       "      <td>3.5</td>\n",
       "      <td>1573938415</td>\n",
       "    </tr>\n",
       "    <tr>\n",
       "      <th>912</th>\n",
       "      <td>4</td>\n",
       "      <td>296</td>\n",
       "      <td>4.0</td>\n",
       "      <td>1573938898</td>\n",
       "    </tr>\n",
       "    <tr>\n",
       "      <th>913</th>\n",
       "      <td>4</td>\n",
       "      <td>541</td>\n",
       "      <td>4.5</td>\n",
       "      <td>1573944303</td>\n",
       "    </tr>\n",
       "    <tr>\n",
       "      <th>914</th>\n",
       "      <td>4</td>\n",
       "      <td>589</td>\n",
       "      <td>4.0</td>\n",
       "      <td>1573939042</td>\n",
       "    </tr>\n",
       "    <tr>\n",
       "      <th>...</th>\n",
       "      <td>...</td>\n",
       "      <td>...</td>\n",
       "      <td>...</td>\n",
       "      <td>...</td>\n",
       "    </tr>\n",
       "    <tr>\n",
       "      <th>24998295</th>\n",
       "      <td>162529</td>\n",
       "      <td>1610</td>\n",
       "      <td>4.0</td>\n",
       "      <td>888183857</td>\n",
       "    </tr>\n",
       "    <tr>\n",
       "      <th>24998296</th>\n",
       "      <td>162529</td>\n",
       "      <td>1721</td>\n",
       "      <td>5.0</td>\n",
       "      <td>888180979</td>\n",
       "    </tr>\n",
       "    <tr>\n",
       "      <th>24998297</th>\n",
       "      <td>162529</td>\n",
       "      <td>1730</td>\n",
       "      <td>4.0</td>\n",
       "      <td>888181260</td>\n",
       "    </tr>\n",
       "    <tr>\n",
       "      <th>24998298</th>\n",
       "      <td>162529</td>\n",
       "      <td>2019</td>\n",
       "      <td>4.0</td>\n",
       "      <td>888182949</td>\n",
       "    </tr>\n",
       "    <tr>\n",
       "      <th>24998299</th>\n",
       "      <td>162529</td>\n",
       "      <td>5060</td>\n",
       "      <td>5.0</td>\n",
       "      <td>888184495</td>\n",
       "    </tr>\n",
       "  </tbody>\n",
       "</table>\n",
       "<p>1869657 rows × 4 columns</p>\n",
       "</div>"
      ],
      "text/plain": [
       "          userId  movieId  rating   timestamp\n",
       "910            4        1     3.0  1573944252\n",
       "911            4      260     3.5  1573938415\n",
       "912            4      296     4.0  1573938898\n",
       "913            4      541     4.5  1573944303\n",
       "914            4      589     4.0  1573939042\n",
       "...          ...      ...     ...         ...\n",
       "24998295  162529     1610     4.0   888183857\n",
       "24998296  162529     1721     5.0   888180979\n",
       "24998297  162529     1730     4.0   888181260\n",
       "24998298  162529     2019     4.0   888182949\n",
       "24998299  162529     5060     5.0   888184495\n",
       "\n",
       "[1869657 rows x 4 columns]"
      ]
     },
     "execution_count": 7,
     "metadata": {},
     "output_type": "execute_result"
    }
   ],
   "source": [
    "r\n"
   ]
  },
  {
   "cell_type": "code",
   "execution_count": null,
   "metadata": {},
   "outputs": [],
   "source": []
  }
 ],
 "metadata": {
  "interpreter": {
   "hash": "3dd4805aa1ae2fd696697ada0dc0651f48bcaf601d176aa13c8e36d838f7eab8"
  },
  "kernelspec": {
   "display_name": "Python 3.9.4 64-bit ('venv': venv)",
   "language": "python",
   "name": "python3"
  },
  "language_info": {
   "codemirror_mode": {
    "name": "ipython",
    "version": 3
   },
   "file_extension": ".py",
   "mimetype": "text/x-python",
   "name": "python",
   "nbconvert_exporter": "python",
   "pygments_lexer": "ipython3",
   "version": "3.9.4"
  },
  "orig_nbformat": 4
 },
 "nbformat": 4,
 "nbformat_minor": 2
}
