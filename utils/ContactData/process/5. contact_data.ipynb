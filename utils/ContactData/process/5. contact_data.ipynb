{
 "cells": [
  {
   "cell_type": "code",
   "execution_count": 1,
   "metadata": {},
   "outputs": [],
   "source": [
    "import pandas as pd\n",
    "import xmltodict\n",
    "import json\n",
    "import os\n",
    "import pickle"
   ]
  },
  {
   "cell_type": "code",
   "execution_count": 4,
   "metadata": {},
   "outputs": [],
   "source": [
    "# get the contact data\n",
    "# {'person1':{'person1':'n1', 'person2':'n2', 'person3':'n3'}, 'person2':{...}}\n",
    "\n",
    "def contact(linkDict, personContact, stride, link_velocity):\n",
    "    # stride = 500\n",
    "    # v {0.0: {'95187201', '123413'}, 3597.0: {'95187201'}, 25549.0: {'322233201'} \n",
    "    # {time:{person}}\n",
    "    for k, v in linkDict.items():\n",
    "        # {0.0, 3597.0}\n",
    "        times = list(v.keys())\n",
    "        for t1 in range(len(times)):\n",
    "            for t2 in range(1, len(times)):\n",
    "                if abs(times[t2] - times[t1]) <= min(stride, link_velocity[k][\"length\"])/(link_velocity[k][\"velocity\"] * 0.5):\n",
    "                    mPersons = list(linkDict[k][times[t1]])\n",
    "                    cPerson = list(linkDict[k][times[t2]])\n",
    "                    for p in mPersons:\n",
    "                        for cp in cPerson:\n",
    "                            if p == cp:\n",
    "                                continue\n",
    "                            if not personContact.__contains__(p):\n",
    "                                personContact[p] = dict()\n",
    "                                if not personContact[p].__contains__(cp):\n",
    "                                    personContact[p][cp] = {times[t2]}\n",
    "                                else:\n",
    "                                    personContact[p][cp].add(times[t2])\n",
    "                            else:\n",
    "                                if not personContact[p].__contains__(cp):\n",
    "                                    personContact[p][cp] = {times[t2]}\n",
    "                                else:\n",
    "                                    personContact[p][cp].add(times[t2])\n",
    "                            if not personContact.__contains__(cp):\n",
    "                                personContact[cp] = dict()\n",
    "                                if not personContact[cp].__contains__(p):\n",
    "                                    personContact[cp][p] = {times[t2]}\n",
    "                                else:\n",
    "                                    personContact[cp][p].add(times[t2])\n",
    "                            else:\n",
    "                                if not personContact[cp].__contains__(p):\n",
    "                                    personContact[cp][p] = {times[t2]}\n",
    "                                else:\n",
    "                                    personContact[cp][p].add(times[t2])\n",
    "                            \n",
    "                else:\n",
    "                    break\n",
    "    return personContact\n",
    "\n"
   ]
  },
  {
   "cell_type": "code",
   "execution_count": 2,
   "metadata": {},
   "outputs": [],
   "source": [
    "# get the contact data\n",
    "# {'person1':{'person1', 'person2', 'person3'}, 'person2':{...}}\n",
    "\n",
    "def contact2(linkDict, personContact, stride, link_velocity):\n",
    "    # stride = 500\n",
    "    # v {'95187201', '123413', '322233201'} \n",
    "    for k, v in linkDict.items():\n",
    "        # {0.0, 3597.0}\n",
    "        times = list(v.keys())\n",
    "        for t1 in range(len(times)):\n",
    "            for t2 in range(1, len(times)):\n",
    "                if abs(times[t2] - times[t1]) <= min(stride, link_velocity[k][\"length\"])/(link_velocity[k][\"velocity\"] * 0.5):\n",
    "                    mPersons = list(linkDict[k][times[t1]])\n",
    "                    cPerson = list(linkDict[k][times[t2]])\n",
    "                    for p in mPersons:\n",
    "                        for cp in cPerson:\n",
    "                            if p == cp:\n",
    "                                continue\n",
    "                            if not personContact.__contains__(p):\n",
    "                                personContact[p] = {cp}\n",
    "                            else:\n",
    "                                personContact[p].add(cp)\n",
    "                            if not personContact.__contains__(cp):\n",
    "                                personContact[cp] = {p}\n",
    "                            else:\n",
    "                                personContact[cp].add(p)\n",
    "                            \n",
    "                else:\n",
    "                    break\n",
    "    return personContact\n",
    "\n"
   ]
  },
  {
   "cell_type": "code",
   "execution_count": 5,
   "metadata": {},
   "outputs": [],
   "source": [
    "with open(\"../network/network.xml\", 'r') as fn:\n",
    "    network_xml = fn.read()\n",
    "    network = xmltodict.parse(network_xml, encoding='utf-8')"
   ]
  },
  {
   "cell_type": "code",
   "execution_count": 6,
   "metadata": {},
   "outputs": [],
   "source": [
    "\n",
    "\n",
    "link_velocity = dict()\n",
    "for link in network[\"network\"][\"links\"][\"link\"]:\n",
    "    id = link[\"@id\"]\n",
    "    speed = float(link[\"@freespeed\"])\n",
    "    length = float(link[\"@length\"])\n",
    "    link_velocity[id] = {\"velocity\": speed, \"length\":length}"
   ]
  },
  {
   "cell_type": "code",
   "execution_count": 7,
   "metadata": {},
   "outputs": [],
   "source": [
    "dir = \"../event_sorted_by_link/\"\n",
    "link_pkl_list = os.listdir(dir)"
   ]
  },
  {
   "cell_type": "code",
   "execution_count": 8,
   "metadata": {},
   "outputs": [],
   "source": [
    "if link_pkl_list.__contains__('.DS_Store'):\n",
    "    link_pkl_list.remove('.DS_Store')"
   ]
  },
  {
   "cell_type": "code",
   "execution_count": 12,
   "metadata": {},
   "outputs": [],
   "source": [
    "strides = [i for i in range(150, 200, 10)]\n",
    "strides.extend([i for i in range(200, 501, 50)])"
   ]
  },
  {
   "cell_type": "code",
   "execution_count": 13,
   "metadata": {},
   "outputs": [
    {
     "data": {
      "text/plain": [
       "[150, 160, 170, 180, 190, 200, 250, 300, 350, 400, 450, 500]"
      ]
     },
     "execution_count": 13,
     "metadata": {},
     "output_type": "execute_result"
    }
   ],
   "source": [
    "strides"
   ]
  },
  {
   "cell_type": "code",
   "execution_count": 14,
   "metadata": {},
   "outputs": [
    {
     "name": "stdout",
     "output_type": "stream",
     "text": [
      "begin to load data\n",
      "begin to load data\n",
      "begin to load data\n",
      "begin to load data\n",
      "begin to load data\n",
      "begin to load data\n",
      "begin to load data\n",
      "begin to load data\n",
      "begin to load data\n",
      "begin to load data\n",
      "begin to load data\n",
      "begin to load data\n"
     ]
    }
   ],
   "source": [
    "for stride in strides:\n",
    "    personContact = dict()\n",
    "    idx = 0\n",
    "    print('begin to load data')\n",
    "    for file in link_pkl_list:\n",
    "        with open(dir + file, \"rb\") as fr:\n",
    "            linkDict = pickle.load(fr)\n",
    "        # print(\"begin to get contact data\")\n",
    "        personContact = contact(linkDict, personContact, stride, link_velocity)\n",
    "        # print(\"get the contact data in link \" + str(idx))\n",
    "        idx += 1\n",
    "    num = personContact.__len__()\n",
    "    with open(\"../contact_data/contact/contact_data_\" + str(stride) + \"_\" + str(num)+ \".pkl\", 'wb') as fwb:\n",
    "        pickle.dump(personContact, fwb)\n",
    "    \n",
    "    "
   ]
  },
  {
   "cell_type": "code",
   "execution_count": 15,
   "metadata": {},
   "outputs": [
    {
     "data": {
      "text/plain": [
       "['6057201',\n",
       " '6184901',\n",
       " '212100901',\n",
       " '193308901',\n",
       " '357587601',\n",
       " '3482501',\n",
       " '5179901',\n",
       " '182361501',\n",
       " '270014301',\n",
       " '7078201']"
      ]
     },
     "execution_count": 15,
     "metadata": {},
     "output_type": "execute_result"
    }
   ],
   "source": [
    "list(personContact.keys())[:10]"
   ]
  },
  {
   "cell_type": "code",
   "execution_count": 16,
   "metadata": {},
   "outputs": [
    {
     "data": {
      "text/plain": [
       "{'6057201': {59970.0}}"
      ]
     },
     "execution_count": 16,
     "metadata": {},
     "output_type": "execute_result"
    }
   ],
   "source": [
    "personContact['6184901']"
   ]
  },
  {
   "cell_type": "code",
   "execution_count": 17,
   "metadata": {},
   "outputs": [
    {
     "data": {
      "text/plain": [
       "{'212100901': {22230.0}}"
      ]
     },
     "execution_count": 17,
     "metadata": {},
     "output_type": "execute_result"
    }
   ],
   "source": [
    "personContact['193308901']"
   ]
  },
  {
   "cell_type": "code",
   "execution_count": 18,
   "metadata": {},
   "outputs": [
    {
     "data": {
      "text/plain": [
       "1"
      ]
     },
     "execution_count": 18,
     "metadata": {},
     "output_type": "execute_result"
    }
   ],
   "source": [
    "len(personContact['193308901'])"
   ]
  },
  {
   "cell_type": "markdown",
   "metadata": {},
   "source": []
  }
 ],
 "metadata": {
  "interpreter": {
   "hash": "3dd4805aa1ae2fd696697ada0dc0651f48bcaf601d176aa13c8e36d838f7eab8"
  },
  "kernelspec": {
   "display_name": "Python 3.9.4 64-bit ('venv': venv)",
   "language": "python",
   "name": "python3"
  },
  "language_info": {
   "codemirror_mode": {
    "name": "ipython",
    "version": 3
   },
   "file_extension": ".py",
   "mimetype": "text/x-python",
   "name": "python",
   "nbconvert_exporter": "python",
   "pygments_lexer": "ipython3",
   "version": "3.9.4"
  },
  "orig_nbformat": 4
 },
 "nbformat": 4,
 "nbformat_minor": 2
}
