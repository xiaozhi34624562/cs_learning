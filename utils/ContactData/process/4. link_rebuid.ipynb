{
 "cells": [
  {
   "cell_type": "code",
   "execution_count": 3,
   "metadata": {},
   "outputs": [],
   "source": [
    "import numpy as np\n",
    "import xmltodict\n",
    "import json\n",
    "import os\n",
    "import pickle"
   ]
  },
  {
   "cell_type": "code",
   "execution_count": 4,
   "metadata": {},
   "outputs": [],
   "source": [
    "with open(\"../network/network.xml\", 'r') as fn:\n",
    "    network_xml = fn.read()\n",
    "    network = xmltodict.parse(network_xml, encoding='utf-8')"
   ]
  },
  {
   "cell_type": "code",
   "execution_count": null,
   "metadata": {},
   "outputs": [],
   "source": [
    "network[\"network\"][\"links\"][\"link\"][0]"
   ]
  },
  {
   "cell_type": "code",
   "execution_count": 6,
   "metadata": {},
   "outputs": [
    {
     "data": {
      "text/plain": [
       "'10'"
      ]
     },
     "execution_count": 6,
     "metadata": {},
     "output_type": "execute_result"
    }
   ],
   "source": [
    "network[\"network\"][\"links\"][\"link\"][1][\"@id\"]"
   ]
  },
  {
   "cell_type": "code",
   "execution_count": 7,
   "metadata": {},
   "outputs": [],
   "source": [
    "links = dict()\n",
    "for link in network[\"network\"][\"links\"][\"link\"]:\n",
    "    id = link[\"@id\"]\n",
    "    links[id] = None"
   ]
  },
  {
   "cell_type": "code",
   "execution_count": 8,
   "metadata": {},
   "outputs": [
    {
     "data": {
      "text/plain": [
       "202939"
      ]
     },
     "execution_count": 8,
     "metadata": {},
     "output_type": "execute_result"
    }
   ],
   "source": [
    "len(links.keys())"
   ]
  },
  {
   "cell_type": "code",
   "execution_count": 11,
   "metadata": {},
   "outputs": [],
   "source": [
    "pkl_path = \"../prepare_for_sorting_data/\""
   ]
  },
  {
   "cell_type": "code",
   "execution_count": 12,
   "metadata": {},
   "outputs": [],
   "source": [
    "with open(pkl_path + \"link_first.pkl\", \"rb\") as flf:\n",
    "    link_first = pickle.load(flf)\n",
    "    "
   ]
  },
  {
   "cell_type": "code",
   "execution_count": 13,
   "metadata": {},
   "outputs": [],
   "source": [
    "with open(pkl_path +\"link_second.pkl\", \"rb\") as fsf:\n",
    "    link_second = pickle.load(fsf)"
   ]
  },
  {
   "cell_type": "code",
   "execution_count": 14,
   "metadata": {},
   "outputs": [],
   "source": [
    "with open(pkl_path +\"link_third.pkl\", \"rb\") as ftf:\n",
    "    link_third = pickle.load(ftf)"
   ]
  },
  {
   "cell_type": "code",
   "execution_count": 15,
   "metadata": {},
   "outputs": [],
   "source": [
    "with open(pkl_path +\"link_fourth.pkl\", \"rb\") as fff:\n",
    "    link_fourth = pickle.load(fff)"
   ]
  },
  {
   "cell_type": "code",
   "execution_count": 16,
   "metadata": {},
   "outputs": [],
   "source": [
    "stride = int(len(links.keys()) / 10)\n",
    "# stride = 100\n",
    "links_key = list(links.keys())"
   ]
  },
  {
   "cell_type": "code",
   "execution_count": 17,
   "metadata": {},
   "outputs": [],
   "source": [
    "links_0 = {key: dict() for key in links_key[:stride]}\n",
    "links_1 = {key: dict() for key in links_key[stride : stride * 2]}\n",
    "links_2 = {key: dict() for key in links_key[stride * 2 : stride * 3]}\n",
    "links_3 = {key: dict() for key in links_key[stride * 3 : stride * 4]}\n",
    "links_4 = {key: dict() for key in links_key[stride * 4 : stride * 5]}\n",
    "links_5 = {key: dict() for key in links_key[stride * 5 : stride * 6]}\n",
    "links_6 = {key: dict() for key in links_key[stride * 6 : stride * 7]}\n",
    "links_7 = {key: dict() for key in links_key[stride * 7 : stride * 8]}\n",
    "links_8 = {key: dict() for key in links_key[stride * 8 : stride * 9]}\n",
    "links_9 = {key: dict() for key in links_key[stride * 9 :]}\n"
   ]
  },
  {
   "cell_type": "code",
   "execution_count": 18,
   "metadata": {},
   "outputs": [],
   "source": [
    "link_dict_all = [link_first, link_second, link_third, link_fourth]\n",
    "link_target_all = [links_0, links_1, links_2, links_3, links_4, links_5, links_6, links_7, links_8, links_9]"
   ]
  },
  {
   "cell_type": "code",
   "execution_count": 14,
   "metadata": {},
   "outputs": [
    {
     "data": {
      "text/plain": [
       "20293"
      ]
     },
     "execution_count": 14,
     "metadata": {},
     "output_type": "execute_result"
    }
   ],
   "source": [
    "len(links_0.keys())"
   ]
  },
  {
   "cell_type": "code",
   "execution_count": null,
   "metadata": {},
   "outputs": [],
   "source": [
    "idx = 0\n",
    "for link_target in link_target_all:\n",
    "    for key, val in link_target.items():\n",
    "        for link_dict in link_dict_all:\n",
    "            if link_dict.__contains__(key):\n",
    "                for time, person in link_dict[key].items():\n",
    "                    if link_target[key] is not None and link_target[key].__contains__(time):\n",
    "                        link_target[key][time].update(person)\n",
    "                    else:\n",
    "                        link_target[key][time] = person\n",
    "        print(\"choose one from four\")\n",
    "    file_name = \"link_\" + str(idx) + \".pkl\"\n",
    "    print(\"the \" + str(idx) + \" link file begin to store\")\n",
    "    with open(file_name, \"wb\") as link_file:\n",
    "        pickle.dump(link_target, link_file)\n",
    "    print(\"the \" + str(idx) + \" link file stored\")\n",
    "    idx += 1"
   ]
  },
  {
   "cell_type": "code",
   "execution_count": 16,
   "metadata": {},
   "outputs": [],
   "source": [
    "with open(\"link_0.pkl\", 'rb') as fr0:\n",
    "    l_0 = pickle.load(fr0)"
   ]
  },
  {
   "cell_type": "code",
   "execution_count": 18,
   "metadata": {},
   "outputs": [
    {
     "data": {
      "text/plain": [
       "['1',\n",
       " '10',\n",
       " '100',\n",
       " '1000',\n",
       " '10000',\n",
       " '100000',\n",
       " '100001',\n",
       " '100002',\n",
       " '100003',\n",
       " '100004']"
      ]
     },
     "execution_count": 18,
     "metadata": {},
     "output_type": "execute_result"
    }
   ],
   "source": [
    "list(l_0.keys())[:10]"
   ]
  },
  {
   "cell_type": "code",
   "execution_count": 22,
   "metadata": {},
   "outputs": [
    {
     "data": {
      "text/plain": [
       "115"
      ]
     },
     "execution_count": 22,
     "metadata": {},
     "output_type": "execute_result"
    }
   ],
   "source": [
    "num = 0\n",
    "for k, v in l_0.items():\n",
    "    for i,j in l_0[k].items():\n",
    "        if len(j) >= 3:\n",
    "            num +=1\n",
    "num"
   ]
  },
  {
   "cell_type": "code",
   "execution_count": 23,
   "metadata": {},
   "outputs": [
    {
     "data": {
      "text/plain": [
       "20293"
      ]
     },
     "execution_count": 23,
     "metadata": {},
     "output_type": "execute_result"
    }
   ],
   "source": [
    "len(l_0.keys())"
   ]
  },
  {
   "cell_type": "code",
   "execution_count": null,
   "metadata": {},
   "outputs": [],
   "source": []
  }
 ],
 "metadata": {
  "interpreter": {
   "hash": "3dd4805aa1ae2fd696697ada0dc0651f48bcaf601d176aa13c8e36d838f7eab8"
  },
  "kernelspec": {
   "display_name": "Python 3.9.4 64-bit ('venv': venv)",
   "language": "python",
   "name": "python3"
  },
  "language_info": {
   "codemirror_mode": {
    "name": "ipython",
    "version": 3
   },
   "file_extension": ".py",
   "mimetype": "text/x-python",
   "name": "python",
   "nbconvert_exporter": "python",
   "pygments_lexer": "ipython3",
   "version": "3.9.4"
  },
  "orig_nbformat": 4
 },
 "nbformat": 4,
 "nbformat_minor": 2
}
