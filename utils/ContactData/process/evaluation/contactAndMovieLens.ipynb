{
 "cells": [
  {
   "cell_type": "code",
   "execution_count": 1,
   "metadata": {},
   "outputs": [],
   "source": [
    "import pandas as pd\n",
    "import os\n",
    "import pickle\n",
    "import numpy as np"
   ]
  },
  {
   "cell_type": "code",
   "execution_count": 2,
   "metadata": {},
   "outputs": [],
   "source": [
    "def get_contact_file():\n",
    "    contact_dir = \"../../contact_data/contact/\"\n",
    "    contact_file_list = os.listdir(contact_dir)\n",
    "    if contact_file_list.__contains__(\".DS_Store\"):\n",
    "        contact_file_list.remove(\".DS_Store\")\n",
    "    return contact_dir, contact_file_list\n",
    "\n",
    "def open_contact(contact_dir, contact_file):\n",
    "    with open(contact_dir+contact_file, 'rb') as f:\n",
    "        contact = pickle.load(f)\n",
    "    return contact\n",
    "\n"
   ]
  },
  {
   "cell_type": "code",
   "execution_count": 3,
   "metadata": {},
   "outputs": [],
   "source": [
    "contact_dir, contact_file_list = get_contact_file()\n",
    "contact = open_contact(contact_dir, contact_file_list[1])"
   ]
  },
  {
   "cell_type": "markdown",
   "metadata": {},
   "source": []
  },
  {
   "cell_type": "code",
   "execution_count": 4,
   "metadata": {},
   "outputs": [
    {
     "data": {
      "text/plain": [
       "25.46527777777778"
      ]
     },
     "execution_count": 4,
     "metadata": {},
     "output_type": "execute_result"
    }
   ],
   "source": [
    "t = set()\n",
    "for kk in contact.keys():\n",
    "    for k, v in contact[kk].items():\n",
    "        t.update(v)\n",
    "tt = max(t)\n",
    "tt/60/60"
   ]
  },
  {
   "cell_type": "code",
   "execution_count": 5,
   "metadata": {},
   "outputs": [
    {
     "data": {
      "text/html": [
       "<div>\n",
       "<style scoped>\n",
       "    .dataframe tbody tr th:only-of-type {\n",
       "        vertical-align: middle;\n",
       "    }\n",
       "\n",
       "    .dataframe tbody tr th {\n",
       "        vertical-align: top;\n",
       "    }\n",
       "\n",
       "    .dataframe thead th {\n",
       "        text-align: right;\n",
       "    }\n",
       "</style>\n",
       "<table border=\"1\" class=\"dataframe\">\n",
       "  <thead>\n",
       "    <tr style=\"text-align: right;\">\n",
       "      <th></th>\n",
       "      <th>w</th>\n",
       "      <th>ww</th>\n",
       "      <th>ee</th>\n",
       "    </tr>\n",
       "  </thead>\n",
       "  <tbody>\n",
       "    <tr>\n",
       "      <th>0</th>\n",
       "      <td>a</td>\n",
       "      <td>q</td>\n",
       "      <td>-1</td>\n",
       "    </tr>\n",
       "    <tr>\n",
       "      <th>1</th>\n",
       "      <td>b</td>\n",
       "      <td>c</td>\n",
       "      <td>-1</td>\n",
       "    </tr>\n",
       "  </tbody>\n",
       "</table>\n",
       "</div>"
      ],
      "text/plain": [
       "   w ww  ee\n",
       "0  a  q  -1\n",
       "1  b  c  -1"
      ]
     },
     "execution_count": 5,
     "metadata": {},
     "output_type": "execute_result"
    }
   ],
   "source": [
    "a = ['a', 'b']\n",
    "b = ['q', 'c']\n",
    "c = [-1, -1]\n",
    "d = {'w':a, 'ww':b, 'ee':c}\n",
    "pd.DataFrame(d)"
   ]
  },
  {
   "cell_type": "code",
   "execution_count": 6,
   "metadata": {},
   "outputs": [],
   "source": [
    "rating = pd.read_csv(\"../../contact_data/ratings25.csv\")"
   ]
  },
  {
   "cell_type": "code",
   "execution_count": null,
   "metadata": {},
   "outputs": [],
   "source": []
  },
  {
   "cell_type": "code",
   "execution_count": 7,
   "metadata": {},
   "outputs": [],
   "source": [
    "users = rating[\"userId\"].drop_duplicates().values"
   ]
  },
  {
   "cell_type": "code",
   "execution_count": 8,
   "metadata": {},
   "outputs": [],
   "source": [
    "count = rating[\"userId\"].value_counts()"
   ]
  },
  {
   "cell_type": "code",
   "execution_count": 9,
   "metadata": {},
   "outputs": [
    {
     "data": {
      "text/plain": [
       "Int64Index([ 72315,  80974, 137293,  33844,  20055, 109731,  92046,  49403,\n",
       "             30879, 115102,\n",
       "            ...\n",
       "            119415,  29156,  29161,  29164, 119501,  12094, 119539, 156759,\n",
       "             12084,  36207],\n",
       "           dtype='int64', length=162541)"
      ]
     },
     "execution_count": 9,
     "metadata": {},
     "output_type": "execute_result"
    }
   ],
   "source": [
    "count.index"
   ]
  },
  {
   "cell_type": "code",
   "execution_count": 10,
   "metadata": {},
   "outputs": [],
   "source": [
    "c = count.values"
   ]
  },
  {
   "cell_type": "code",
   "execution_count": 11,
   "metadata": {},
   "outputs": [
    {
     "data": {
      "text/plain": [
       "(2670, 4177, 7038, 13606, 32848, 43645, 63102, 101074, 114242, 131696, 162541)"
      ]
     },
     "execution_count": 11,
     "metadata": {},
     "output_type": "execute_result"
    }
   ],
   "source": [
    "c[c>1000].size, c[c>800].size, c[c>600].size, c[c>400].size, c[c>200].size, c[c>150].size, c[c>100].size, c[c>50].size, c[c>40].size, c[c>30].size, c[c>=20].size"
   ]
  },
  {
   "cell_type": "code",
   "execution_count": 12,
   "metadata": {},
   "outputs": [],
   "source": [
    "threshold_ratings = count.values\n",
    "large_rating = count.index[:threshold_ratings[threshold_ratings>400].size]\n",
    "small_rating = count.index[:threshold_ratings[threshold_ratings>400].size]"
   ]
  },
  {
   "cell_type": "code",
   "execution_count": 13,
   "metadata": {},
   "outputs": [
    {
     "data": {
      "text/html": [
       "<div>\n",
       "<style scoped>\n",
       "    .dataframe tbody tr th:only-of-type {\n",
       "        vertical-align: middle;\n",
       "    }\n",
       "\n",
       "    .dataframe tbody tr th {\n",
       "        vertical-align: top;\n",
       "    }\n",
       "\n",
       "    .dataframe thead th {\n",
       "        text-align: right;\n",
       "    }\n",
       "</style>\n",
       "<table border=\"1\" class=\"dataframe\">\n",
       "  <thead>\n",
       "    <tr style=\"text-align: right;\">\n",
       "      <th></th>\n",
       "      <th>ww</th>\n",
       "      <th>ee</th>\n",
       "    </tr>\n",
       "  </thead>\n",
       "  <tbody>\n",
       "    <tr>\n",
       "      <th>0</th>\n",
       "      <td>a</td>\n",
       "      <td>0</td>\n",
       "    </tr>\n",
       "    <tr>\n",
       "      <th>1</th>\n",
       "      <td>b</td>\n",
       "      <td>0</td>\n",
       "    </tr>\n",
       "  </tbody>\n",
       "</table>\n",
       "</div>"
      ],
      "text/plain": [
       "  ww  ee\n",
       "0  a   0\n",
       "1  b   0"
      ]
     },
     "execution_count": 13,
     "metadata": {},
     "output_type": "execute_result"
    }
   ],
   "source": [
    "a = ['a', 'b']\n",
    "pd.DataFrame({'ww':a, 'ee':[0]*len(a)})"
   ]
  },
  {
   "cell_type": "code",
   "execution_count": null,
   "metadata": {},
   "outputs": [],
   "source": []
  },
  {
   "cell_type": "code",
   "execution_count": 14,
   "metadata": {},
   "outputs": [],
   "source": [
    "# def selectUserFromRating(rating, contact):\n",
    "#     large_rating, small_rating = split_rating(rating)\n",
    "#     # users1 = large_rating[\"userId\"].drop_duplicates().values\n",
    "#     # users2 = small_rating[\"userId\"].drop_duplicates().values\n",
    "#     peers = list(contact.keys())\n",
    "#     peers1 = int(len(peers) * 0.3)\n",
    "#     peers2 = len(peers) - peers1\n",
    "#     selected_users1 = np.random.choice(large_rating, peers1, replace=False)\n",
    "#     selected_users2 = np.random.choice(small_rating, peers2, replace=False)\n",
    "#     selected_users = selected_users1.extend(selected_users2)\n",
    "#     pd.DataFrame({\"peerId\":peers, \"userId\":selected_users, \"stride\":[0]*len(peers), \"time\":[0]*len(peers), \"svd_mse\":[0]*len(peers), \"mf_svd\":[0]*len(peers)})\n",
    "\n",
    "#     user_peer_dict = {peers[i] : selected_users[i] for i in range(len(selected_users))}\n",
    "#     user_contact = {i:dict() for i in range(1, 28)}\n",
    "#     mm = set()\n",
    "#     for person in contact.keys():\n",
    "#         peer = user_peer_dict[person]\n",
    "#         for p, times in contact[person].items():\n",
    "#             if user_peer_dict.__contains__(p):\n",
    "#                 for t in times:\n",
    "#                     n = int(t / (60 * 60)) + 1\n",
    "#                     mm.add(n)\n",
    "#                     if user_contact[n].__contains__(peer):\n",
    "#                         if user_contact[n][peer] is None:\n",
    "#                             user_contact[n][peer] = {user_peer_dict[p]}\n",
    "#                         else:\n",
    "#                             user_contact[n][peer].add(user_peer_dict[p])\n",
    "#                     else:\n",
    "#                         user_contact[n][peer] = {user_peer_dict[p]}\n",
    "#             else:\n",
    "#                 print(p)\n",
    "#     return user_contact, selected_users"
   ]
  },
  {
   "cell_type": "code",
   "execution_count": 15,
   "metadata": {},
   "outputs": [],
   "source": [
    "def split_rating(rating):\n",
    "        count = rating[\"userId\"].value_counts()\n",
    "        threshold_ratings = count.values\n",
    "        large_rating = count.index[:threshold_ratings[threshold_ratings>400].size]\n",
    "        small_rating = count.index[threshold_ratings[threshold_ratings>400].size:]\n",
    "        return large_rating, small_rating"
   ]
  },
  {
   "cell_type": "code",
   "execution_count": 68,
   "metadata": {},
   "outputs": [],
   "source": [
    "#  add stride here\n",
    "def select_user_for_peer(rating, contact):\n",
    "    large_rating, small_rating = split_rating(rating)\n",
    "    peers = list(contact.keys())\n",
    "    peers1 = int(len(peers) * 0.3)\n",
    "    peers2 = len(peers) - peers1\n",
    "    selected_users1 = list(np.random.choice(large_rating, peers1, replace=False))\n",
    "    selected_users2 = list(np.random.choice(small_rating, peers2, replace=False))\n",
    "    selected_users = selected_users1 + selected_users2\n",
    "    return pd.DataFrame({\"peerId\":peers, \"userId\":selected_users, \"stride\":[0]*len(peers), \"time\":[0]*len(peers), \"svd_mse\":[0]*len(peers), \"mf_svd\":[0]*len(peers), 'util':['']*len(peers)}, index=peers)\n"
   ]
  },
  {
   "cell_type": "code",
   "execution_count": 69,
   "metadata": {},
   "outputs": [],
   "source": [
    "result = select_user_for_peer(rating, contact)"
   ]
  },
  {
   "cell_type": "code",
   "execution_count": 70,
   "metadata": {},
   "outputs": [
    {
     "data": {
      "text/plain": [
       "145076"
      ]
     },
     "execution_count": 70,
     "metadata": {},
     "output_type": "execute_result"
    }
   ],
   "source": [
    "result.loc['6184901'].at['userId']"
   ]
  },
  {
   "cell_type": "code",
   "execution_count": 71,
   "metadata": {},
   "outputs": [],
   "source": [
    "def contact_in_hour(result):\n",
    "    user_contact = {i:dict() for i in range(1, 30)}\n",
    "    for person in contact.keys():\n",
    "        peer = result.loc[person].at['userId']\n",
    "        for p, times in contact[person].items():\n",
    "            for t in times:\n",
    "                n = int(t / (60 * 60)) + 1\n",
    "                if user_contact[n].__contains__(peer):\n",
    "                    if user_contact[n][peer] is None:\n",
    "                        user_contact[n][peer] = {result.loc[p].at['userId']}\n",
    "                    else:\n",
    "                        user_contact[n][peer].add(result.loc[p].at['userId'])\n",
    "                else:\n",
    "                    user_contact[n][peer] = {result.loc[p].at['userId']}        \n",
    "    return user_contact"
   ]
  },
  {
   "cell_type": "code",
   "execution_count": 72,
   "metadata": {},
   "outputs": [
    {
     "data": {
      "text/html": [
       "<div>\n",
       "<style scoped>\n",
       "    .dataframe tbody tr th:only-of-type {\n",
       "        vertical-align: middle;\n",
       "    }\n",
       "\n",
       "    .dataframe tbody tr th {\n",
       "        vertical-align: top;\n",
       "    }\n",
       "\n",
       "    .dataframe thead th {\n",
       "        text-align: right;\n",
       "    }\n",
       "</style>\n",
       "<table border=\"1\" class=\"dataframe\">\n",
       "  <thead>\n",
       "    <tr style=\"text-align: right;\">\n",
       "      <th></th>\n",
       "      <th>peerId</th>\n",
       "      <th>userId</th>\n",
       "      <th>stride</th>\n",
       "      <th>time</th>\n",
       "      <th>svd_mse</th>\n",
       "      <th>mf_svd</th>\n",
       "      <th>util</th>\n",
       "    </tr>\n",
       "  </thead>\n",
       "  <tbody>\n",
       "    <tr>\n",
       "      <th>6184901</th>\n",
       "      <td>6184901</td>\n",
       "      <td>145076</td>\n",
       "      <td>0</td>\n",
       "      <td>0</td>\n",
       "      <td>0</td>\n",
       "      <td>0</td>\n",
       "      <td></td>\n",
       "    </tr>\n",
       "    <tr>\n",
       "      <th>6057201</th>\n",
       "      <td>6057201</td>\n",
       "      <td>7784</td>\n",
       "      <td>0</td>\n",
       "      <td>0</td>\n",
       "      <td>0</td>\n",
       "      <td>0</td>\n",
       "      <td></td>\n",
       "    </tr>\n",
       "    <tr>\n",
       "      <th>212100901</th>\n",
       "      <td>212100901</td>\n",
       "      <td>21100</td>\n",
       "      <td>0</td>\n",
       "      <td>0</td>\n",
       "      <td>0</td>\n",
       "      <td>0</td>\n",
       "      <td></td>\n",
       "    </tr>\n",
       "    <tr>\n",
       "      <th>193308901</th>\n",
       "      <td>193308901</td>\n",
       "      <td>45437</td>\n",
       "      <td>0</td>\n",
       "      <td>0</td>\n",
       "      <td>0</td>\n",
       "      <td>0</td>\n",
       "      <td></td>\n",
       "    </tr>\n",
       "    <tr>\n",
       "      <th>357587601</th>\n",
       "      <td>357587601</td>\n",
       "      <td>116250</td>\n",
       "      <td>0</td>\n",
       "      <td>0</td>\n",
       "      <td>0</td>\n",
       "      <td>0</td>\n",
       "      <td></td>\n",
       "    </tr>\n",
       "    <tr>\n",
       "      <th>...</th>\n",
       "      <td>...</td>\n",
       "      <td>...</td>\n",
       "      <td>...</td>\n",
       "      <td>...</td>\n",
       "      <td>...</td>\n",
       "      <td>...</td>\n",
       "      <td>...</td>\n",
       "    </tr>\n",
       "    <tr>\n",
       "      <th>314311201</th>\n",
       "      <td>314311201</td>\n",
       "      <td>115586</td>\n",
       "      <td>0</td>\n",
       "      <td>0</td>\n",
       "      <td>0</td>\n",
       "      <td>0</td>\n",
       "      <td></td>\n",
       "    </tr>\n",
       "    <tr>\n",
       "      <th>freight_2250_berlin-142698</th>\n",
       "      <td>freight_2250_berlin-142698</td>\n",
       "      <td>72262</td>\n",
       "      <td>0</td>\n",
       "      <td>0</td>\n",
       "      <td>0</td>\n",
       "      <td>0</td>\n",
       "      <td></td>\n",
       "    </tr>\n",
       "    <tr>\n",
       "      <th>freight_2250_berlin-142698_freight</th>\n",
       "      <td>freight_2250_berlin-142698_freight</td>\n",
       "      <td>16639</td>\n",
       "      <td>0</td>\n",
       "      <td>0</td>\n",
       "      <td>0</td>\n",
       "      <td>0</td>\n",
       "      <td></td>\n",
       "    </tr>\n",
       "    <tr>\n",
       "      <th>freight_2547_berlin-130736</th>\n",
       "      <td>freight_2547_berlin-130736</td>\n",
       "      <td>43493</td>\n",
       "      <td>0</td>\n",
       "      <td>0</td>\n",
       "      <td>0</td>\n",
       "      <td>0</td>\n",
       "      <td></td>\n",
       "    </tr>\n",
       "    <tr>\n",
       "      <th>freight_2547_berlin-130736_freight</th>\n",
       "      <td>freight_2547_berlin-130736_freight</td>\n",
       "      <td>137533</td>\n",
       "      <td>0</td>\n",
       "      <td>0</td>\n",
       "      <td>0</td>\n",
       "      <td>0</td>\n",
       "      <td></td>\n",
       "    </tr>\n",
       "  </tbody>\n",
       "</table>\n",
       "<p>8628 rows × 7 columns</p>\n",
       "</div>"
      ],
      "text/plain": [
       "                                                                peerId  \\\n",
       "6184901                                                        6184901   \n",
       "6057201                                                        6057201   \n",
       "212100901                                                    212100901   \n",
       "193308901                                                    193308901   \n",
       "357587601                                                    357587601   \n",
       "...                                                                ...   \n",
       "314311201                                                    314311201   \n",
       "freight_2250_berlin-142698                  freight_2250_berlin-142698   \n",
       "freight_2250_berlin-142698_freight  freight_2250_berlin-142698_freight   \n",
       "freight_2547_berlin-130736                  freight_2547_berlin-130736   \n",
       "freight_2547_berlin-130736_freight  freight_2547_berlin-130736_freight   \n",
       "\n",
       "                                    userId  stride  time  svd_mse  mf_svd util  \n",
       "6184901                             145076       0     0        0       0       \n",
       "6057201                               7784       0     0        0       0       \n",
       "212100901                            21100       0     0        0       0       \n",
       "193308901                            45437       0     0        0       0       \n",
       "357587601                           116250       0     0        0       0       \n",
       "...                                    ...     ...   ...      ...     ...  ...  \n",
       "314311201                           115586       0     0        0       0       \n",
       "freight_2250_berlin-142698           72262       0     0        0       0       \n",
       "freight_2250_berlin-142698_freight   16639       0     0        0       0       \n",
       "freight_2547_berlin-130736           43493       0     0        0       0       \n",
       "freight_2547_berlin-130736_freight  137533       0     0        0       0       \n",
       "\n",
       "[8628 rows x 7 columns]"
      ]
     },
     "execution_count": 72,
     "metadata": {},
     "output_type": "execute_result"
    }
   ],
   "source": [
    "result"
   ]
  },
  {
   "cell_type": "code",
   "execution_count": 65,
   "metadata": {},
   "outputs": [
    {
     "data": {
      "text/plain": [
       "6184901    b_12\n",
       "Name: util, dtype: object"
      ]
     },
     "execution_count": 65,
     "metadata": {},
     "output_type": "execute_result"
    }
   ],
   "source": [
    "a = result.loc[result['userId']==126886, 'util'].values[0]\n",
    "b = a + '_12'\n",
    "result.loc[result['userId']==126886, 'util'] = b\n",
    "result.loc[result['userId']==126886, 'util']"
   ]
  },
  {
   "cell_type": "code",
   "execution_count": 71,
   "metadata": {},
   "outputs": [],
   "source": [
    "user_contact = contact_in_hour(result)"
   ]
  },
  {
   "cell_type": "code",
   "execution_count": 74,
   "metadata": {},
   "outputs": [
    {
     "name": "stdout",
     "output_type": "stream",
     "text": [
      "aaa\n"
     ]
    }
   ],
   "source": [
    "if result.loc[result['userId']==145076, 'time'].values[0] == 0:\n",
    "    print(\"aaa\") \n",
    "\n"
   ]
  },
  {
   "cell_type": "code",
   "execution_count": null,
   "metadata": {},
   "outputs": [],
   "source": []
  },
  {
   "cell_type": "code",
   "execution_count": null,
   "metadata": {},
   "outputs": [],
   "source": []
  },
  {
   "cell_type": "code",
   "execution_count": null,
   "metadata": {},
   "outputs": [],
   "source": []
  },
  {
   "cell_type": "code",
   "execution_count": null,
   "metadata": {},
   "outputs": [],
   "source": []
  },
  {
   "cell_type": "code",
   "execution_count": 72,
   "metadata": {},
   "outputs": [
    {
     "data": {
      "text/plain": [
       "10848     1\n",
       "102725    1\n",
       "119347    1\n",
       "63269     1\n",
       "107228    1\n",
       "         ..\n",
       "49986     1\n",
       "50626     1\n",
       "44952     1\n",
       "84582     1\n",
       "75520     1\n",
       "Name: userId, Length: 8628, dtype: int64"
      ]
     },
     "execution_count": 72,
     "metadata": {},
     "output_type": "execute_result"
    }
   ],
   "source": [
    "result['userId'].value_counts()"
   ]
  },
  {
   "cell_type": "code",
   "execution_count": 98,
   "metadata": {},
   "outputs": [
    {
     "ename": "TypeError",
     "evalue": "'(6184901                               False\n6057201                               False\n212100901                             False\n193308901                             False\n357587601                             False\n                                      ...  \n314311201                             False\nfreight_2250_berlin-142698            False\nfreight_2250_berlin-142698_freight    False\nfreight_2547_berlin-130736            False\nfreight_2547_berlin-130736_freight    False\nName: userId, Length: 8628, dtype: bool, 'time')' is an invalid key",
     "output_type": "error",
     "traceback": [
      "\u001b[0;31m---------------------------------------------------------------------------\u001b[0m",
      "\u001b[0;31mTypeError\u001b[0m                                 Traceback (most recent call last)",
      "\u001b[1;32m/Users/xiaozhi/Downloads/Master_Thesis/process/evaluation/contactAndMovieLens.ipynb Cell 26'\u001b[0m in \u001b[0;36m<module>\u001b[0;34m\u001b[0m\n\u001b[0;32m----> <a href='vscode-notebook-cell:/Users/xiaozhi/Downloads/Master_Thesis/process/evaluation/contactAndMovieLens.ipynb#ch0000032?line=0'>1</a>\u001b[0m result[result[\u001b[39m'\u001b[39;49m\u001b[39muserId\u001b[39;49m\u001b[39m'\u001b[39;49m] \u001b[39m==\u001b[39;49m \u001b[39m'\u001b[39;49m\u001b[39m10848\u001b[39;49m\u001b[39m'\u001b[39;49m, \u001b[39m'\u001b[39;49m\u001b[39mtime\u001b[39;49m\u001b[39m'\u001b[39;49m]\u001b[39m.\u001b[39mvalues[\u001b[39m0\u001b[39m]\n",
      "File \u001b[0;32m~/IdeaProjects/recommender/venv/lib/python3.9/site-packages/pandas/core/frame.py:3458\u001b[0m, in \u001b[0;36mDataFrame.__getitem__\u001b[0;34m(self, key)\u001b[0m\n\u001b[1;32m   <a href='file:///Users/xiaozhi/IdeaProjects/recommender/venv/lib/python3.9/site-packages/pandas/core/frame.py?line=3455'>3456</a>\u001b[0m \u001b[39mif\u001b[39;00m \u001b[39mself\u001b[39m\u001b[39m.\u001b[39mcolumns\u001b[39m.\u001b[39mnlevels \u001b[39m>\u001b[39m \u001b[39m1\u001b[39m:\n\u001b[1;32m   <a href='file:///Users/xiaozhi/IdeaProjects/recommender/venv/lib/python3.9/site-packages/pandas/core/frame.py?line=3456'>3457</a>\u001b[0m     \u001b[39mreturn\u001b[39;00m \u001b[39mself\u001b[39m\u001b[39m.\u001b[39m_getitem_multilevel(key)\n\u001b[0;32m-> <a href='file:///Users/xiaozhi/IdeaProjects/recommender/venv/lib/python3.9/site-packages/pandas/core/frame.py?line=3457'>3458</a>\u001b[0m indexer \u001b[39m=\u001b[39m \u001b[39mself\u001b[39;49m\u001b[39m.\u001b[39;49mcolumns\u001b[39m.\u001b[39;49mget_loc(key)\n\u001b[1;32m   <a href='file:///Users/xiaozhi/IdeaProjects/recommender/venv/lib/python3.9/site-packages/pandas/core/frame.py?line=3458'>3459</a>\u001b[0m \u001b[39mif\u001b[39;00m is_integer(indexer):\n\u001b[1;32m   <a href='file:///Users/xiaozhi/IdeaProjects/recommender/venv/lib/python3.9/site-packages/pandas/core/frame.py?line=3459'>3460</a>\u001b[0m     indexer \u001b[39m=\u001b[39m [indexer]\n",
      "File \u001b[0;32m~/IdeaProjects/recommender/venv/lib/python3.9/site-packages/pandas/core/indexes/base.py:3361\u001b[0m, in \u001b[0;36mIndex.get_loc\u001b[0;34m(self, key, method, tolerance)\u001b[0m\n\u001b[1;32m   <a href='file:///Users/xiaozhi/IdeaProjects/recommender/venv/lib/python3.9/site-packages/pandas/core/indexes/base.py?line=3358'>3359</a>\u001b[0m casted_key \u001b[39m=\u001b[39m \u001b[39mself\u001b[39m\u001b[39m.\u001b[39m_maybe_cast_indexer(key)\n\u001b[1;32m   <a href='file:///Users/xiaozhi/IdeaProjects/recommender/venv/lib/python3.9/site-packages/pandas/core/indexes/base.py?line=3359'>3360</a>\u001b[0m \u001b[39mtry\u001b[39;00m:\n\u001b[0;32m-> <a href='file:///Users/xiaozhi/IdeaProjects/recommender/venv/lib/python3.9/site-packages/pandas/core/indexes/base.py?line=3360'>3361</a>\u001b[0m     \u001b[39mreturn\u001b[39;00m \u001b[39mself\u001b[39;49m\u001b[39m.\u001b[39;49m_engine\u001b[39m.\u001b[39;49mget_loc(casted_key)\n\u001b[1;32m   <a href='file:///Users/xiaozhi/IdeaProjects/recommender/venv/lib/python3.9/site-packages/pandas/core/indexes/base.py?line=3361'>3362</a>\u001b[0m \u001b[39mexcept\u001b[39;00m \u001b[39mKeyError\u001b[39;00m \u001b[39mas\u001b[39;00m err:\n\u001b[1;32m   <a href='file:///Users/xiaozhi/IdeaProjects/recommender/venv/lib/python3.9/site-packages/pandas/core/indexes/base.py?line=3362'>3363</a>\u001b[0m     \u001b[39mraise\u001b[39;00m \u001b[39mKeyError\u001b[39;00m(key) \u001b[39mfrom\u001b[39;00m \u001b[39merr\u001b[39;00m\n",
      "File \u001b[0;32m~/IdeaProjects/recommender/venv/lib/python3.9/site-packages/pandas/_libs/index.pyx:76\u001b[0m, in \u001b[0;36mpandas._libs.index.IndexEngine.get_loc\u001b[0;34m()\u001b[0m\n",
      "File \u001b[0;32m~/IdeaProjects/recommender/venv/lib/python3.9/site-packages/pandas/_libs/index.pyx:82\u001b[0m, in \u001b[0;36mpandas._libs.index.IndexEngine.get_loc\u001b[0;34m()\u001b[0m\n",
      "\u001b[0;31mTypeError\u001b[0m: '(6184901                               False\n6057201                               False\n212100901                             False\n193308901                             False\n357587601                             False\n                                      ...  \n314311201                             False\nfreight_2250_berlin-142698            False\nfreight_2250_berlin-142698_freight    False\nfreight_2547_berlin-130736            False\nfreight_2547_berlin-130736_freight    False\nName: userId, Length: 8628, dtype: bool, 'time')' is an invalid key"
     ]
    }
   ],
   "source": [
    "result[result['userId'] == '10848', 'time'].values[0]\n",
    "# result.loc['userId' =='10848', 'svd_mse'].values"
   ]
  },
  {
   "cell_type": "code",
   "execution_count": 95,
   "metadata": {},
   "outputs": [
    {
     "data": {
      "text/html": [
       "<div>\n",
       "<style scoped>\n",
       "    .dataframe tbody tr th:only-of-type {\n",
       "        vertical-align: middle;\n",
       "    }\n",
       "\n",
       "    .dataframe tbody tr th {\n",
       "        vertical-align: top;\n",
       "    }\n",
       "\n",
       "    .dataframe thead th {\n",
       "        text-align: right;\n",
       "    }\n",
       "</style>\n",
       "<table border=\"1\" class=\"dataframe\">\n",
       "  <thead>\n",
       "    <tr style=\"text-align: right;\">\n",
       "      <th></th>\n",
       "      <th>peerId</th>\n",
       "      <th>userId</th>\n",
       "      <th>stride</th>\n",
       "      <th>time</th>\n",
       "      <th>svd_mse</th>\n",
       "      <th>mf_svd</th>\n",
       "      <th>util</th>\n",
       "    </tr>\n",
       "  </thead>\n",
       "  <tbody>\n",
       "  </tbody>\n",
       "</table>\n",
       "</div>"
      ],
      "text/plain": [
       "Empty DataFrame\n",
       "Columns: [peerId, userId, stride, time, svd_mse, mf_svd, util]\n",
       "Index: []"
      ]
     },
     "execution_count": 95,
     "metadata": {},
     "output_type": "execute_result"
    }
   ],
   "source": [
    "result[result['userId'] == '10848']"
   ]
  },
  {
   "cell_type": "code",
   "execution_count": 92,
   "metadata": {},
   "outputs": [
    {
     "data": {
      "text/plain": [
       "Series([], Name: svd_mse, dtype: int64)"
      ]
     },
     "execution_count": 92,
     "metadata": {},
     "output_type": "execute_result"
    }
   ],
   "source": [
    "result.loc[result['userId'] == '10848']"
   ]
  },
  {
   "cell_type": "code",
   "execution_count": 87,
   "metadata": {},
   "outputs": [
    {
     "data": {
      "text/plain": [
       "array([], dtype=object)"
      ]
     },
     "execution_count": 87,
     "metadata": {},
     "output_type": "execute_result"
    }
   ],
   "source": [
    "\n",
    "result.loc[result['userId'] == '10848', 'util'].values"
   ]
  },
  {
   "cell_type": "code",
   "execution_count": 86,
   "metadata": {},
   "outputs": [
    {
     "ename": "TypeError",
     "evalue": "'numpy.ndarray' object is not callable",
     "output_type": "error",
     "traceback": [
      "\u001b[0;31m---------------------------------------------------------------------------\u001b[0m",
      "\u001b[0;31mTypeError\u001b[0m                                 Traceback (most recent call last)",
      "\u001b[1;32m/Users/xiaozhi/Downloads/Master_Thesis/process/evaluation/contactAndMovieLens.ipynb Cell 27'\u001b[0m in \u001b[0;36m<module>\u001b[0;34m\u001b[0m\n\u001b[0;32m----> <a href='vscode-notebook-cell:/Users/xiaozhi/Downloads/Master_Thesis/process/evaluation/contactAndMovieLens.ipynb#ch0000033?line=0'>1</a>\u001b[0m result[result[\u001b[39m'\u001b[39;49m\u001b[39muserId\u001b[39;49m\u001b[39m'\u001b[39;49m] \u001b[39m==\u001b[39;49m \u001b[39m'\u001b[39;49m\u001b[39m10848\u001b[39;49m\u001b[39m'\u001b[39;49m][\u001b[39m'\u001b[39;49m\u001b[39mutil\u001b[39;49m\u001b[39m'\u001b[39;49m]\u001b[39m.\u001b[39;49mvalues()\n",
      "\u001b[0;31mTypeError\u001b[0m: 'numpy.ndarray' object is not callable"
     ]
    }
   ],
   "source": [
    "result[result['userId'] == '10848']['util'].values"
   ]
  },
  {
   "cell_type": "code",
   "execution_count": 49,
   "metadata": {},
   "outputs": [
    {
     "data": {
      "text/plain": [
       "6184901    2.0\n",
       "Name: svd_mse, dtype: float64"
      ]
     },
     "execution_count": 49,
     "metadata": {},
     "output_type": "execute_result"
    }
   ],
   "source": [
    "result.loc[result['userId'] == 33681]['svd_mse']"
   ]
  },
  {
   "cell_type": "code",
   "execution_count": 126,
   "metadata": {},
   "outputs": [
    {
     "data": {
      "text/plain": [
       "15402"
      ]
     },
     "execution_count": 126,
     "metadata": {},
     "output_type": "execute_result"
    }
   ],
   "source": [
    "sum = 0\n",
    "for kk in user_contact.keys():\n",
    "    for k, v in user_contact[kk].items():\n",
    "        sum += len(v)\n",
    "sum"
   ]
  },
  {
   "cell_type": "code",
   "execution_count": null,
   "metadata": {},
   "outputs": [],
   "source": []
  }
 ],
 "metadata": {
  "interpreter": {
   "hash": "3dd4805aa1ae2fd696697ada0dc0651f48bcaf601d176aa13c8e36d838f7eab8"
  },
  "kernelspec": {
   "display_name": "Python 3.9.4 64-bit ('venv': venv)",
   "language": "python",
   "name": "python3"
  },
  "language_info": {
   "codemirror_mode": {
    "name": "ipython",
    "version": 3
   },
   "file_extension": ".py",
   "mimetype": "text/x-python",
   "name": "python",
   "nbconvert_exporter": "python",
   "pygments_lexer": "ipython3",
   "version": "3.9.4"
  },
  "orig_nbformat": 4
 },
 "nbformat": 4,
 "nbformat_minor": 2
}
